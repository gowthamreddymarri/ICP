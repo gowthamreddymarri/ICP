{
  "nbformat": 4,
  "nbformat_minor": 0,
  "metadata": {
    "colab": {
      "provenance": [],
      "authorship_tag": "ABX9TyPtwuo7QlJsm6Xv/a4ld5Z4",
      "include_colab_link": true
    },
    "kernelspec": {
      "name": "python3",
      "display_name": "Python 3"
    },
    "language_info": {
      "name": "python"
    }
  },
  "cells": [
    {
      "cell_type": "markdown",
      "metadata": {
        "id": "view-in-github",
        "colab_type": "text"
      },
      "source": [
        "<a href=\"https://colab.research.google.com/github/gowthamreddymarri/ICP/blob/main/ICP.ipynb\" target=\"_parent\"><img src=\"https://colab.research.google.com/assets/colab-badge.svg\" alt=\"Open In Colab\"/></a>"
      ]
    },
    {
      "cell_type": "code",
      "execution_count": 1,
      "metadata": {
        "colab": {
          "base_uri": "https://localhost:8080/"
        },
        "id": "nfG7h0-0RyGk",
        "outputId": "7e123e2e-c732-4c9f-abe7-684bb218436d"
      },
      "outputs": [
        {
          "output_type": "stream",
          "name": "stdout",
          "text": [
            "Mounted at /content/drive\n"
          ]
        }
      ],
      "source": [
        "from google.colab import drive\n",
        "drive.mount('/content/drive')"
      ]
    },
    {
      "cell_type": "markdown",
      "source": [
        "#5A"
      ],
      "metadata": {
        "id": "AR7WcSpPUQGi"
      }
    },
    {
      "cell_type": "code",
      "source": [
        "s=list(input(\"Enter a string: \"))\n",
        "s.pop(1)\n",
        "s.pop(2)\n",
        "s.reverse()\n",
        "print(s)"
      ],
      "metadata": {
        "id": "VrMfgqjFUSAI"
      },
      "execution_count": null,
      "outputs": []
    }
  ]
}